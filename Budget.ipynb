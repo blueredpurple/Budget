{
 "cells": [
  {
   "cell_type": "code",
   "execution_count": 562,
   "id": "75308edc",
   "metadata": {},
   "outputs": [
    {
     "name": "stdout",
     "output_type": "stream",
     "text": [
      "                 0         1             2                 3      4     5   \\\n",
      "0               NaN       NaN           NaN               NaN    NaN   NaN   \n",
      "1               NaN       NaN           NaN               NaN    NaN   NaN   \n",
      "2               NaN       NaN           NaN               NaN    NaN   NaN   \n",
      "3               NaN       NaN           NaN               NaN    NaN   NaN   \n",
      "4       2022 BUDGET  January       February             March  April   May   \n",
      "5   Monthly Income       1100          1100              1100   1100  1100   \n",
      "6   Montly Expenses       650           650               650    650   650   \n",
      "7    Montly Savings        40            40                40     40    40   \n",
      "8               NaN       NaN           NaN               NaN    NaN   NaN   \n",
      "9               NaN       NaN           NaN               NaN    NaN   NaN   \n",
      "10      2022 ACTUAL  January       February             March  April   May   \n",
      "11  Monthly Income       1080          1070              1000   1200  1000   \n",
      "12  Montly Expenses       620           640               660    600   600   \n",
      "13   Montly Savings        45            45                35     55    35   \n",
      "14              NaN       NaN           NaN               NaN    NaN   NaN   \n",
      "15              NaN       NaN           NaN               NaN    NaN   NaN   \n",
      "16              NaN       NaN           NaN               NaN    NaN   NaN   \n",
      "17              NaN       NaN           NaN               NaN    NaN   NaN   \n",
      "18              NaN       NaN           NaN  Projected Total     NaN   vs    \n",
      "19              NaN       NaN        Income             13200    NaN   NaN   \n",
      "20              NaN       NaN      Expenses              7800    NaN   NaN   \n",
      "21              NaN       NaN       Savings               480    NaN   NaN   \n",
      "22              NaN       NaN  Net Revenue               4920    NaN   NaN   \n",
      "\n",
      "               6     7       8          9        10        11        12  \n",
      "0             NaN   NaN     NaN        NaN      NaN       NaN       NaN  \n",
      "1             NaN   NaN     NaN        NaN      NaN       NaN       NaN  \n",
      "2             NaN   NaN     NaN        NaN      NaN       NaN       NaN  \n",
      "3             NaN   NaN     NaN        NaN      NaN       NaN       NaN  \n",
      "4            June  July  August  September  October  November  December  \n",
      "5            1100  1100    1100       1100     1100      1100      1100  \n",
      "6             650   650     650        650      650       650       650  \n",
      "7              40    40      40         40       40        40        40  \n",
      "8             NaN   NaN     NaN        NaN      NaN       NaN       NaN  \n",
      "9             NaN   NaN     NaN        NaN      NaN       NaN       NaN  \n",
      "10           June  July  August  September  October  November  December  \n",
      "11           1000  1100    1060       1000     1000      1090      1000  \n",
      "12            745   795     715        645      655       615       675  \n",
      "13             35    60      35         25       25        25        25  \n",
      "14            NaN   NaN     NaN        NaN      NaN       NaN       NaN  \n",
      "15            NaN   NaN     NaN        NaN      NaN       NaN       NaN  \n",
      "16            NaN   NaN     NaN        NaN      NaN       NaN       NaN  \n",
      "17            NaN   NaN     NaN        NaN      NaN       NaN       NaN  \n",
      "18  Actual Total    NaN     NaN        NaN      NaN       NaN       NaN  \n",
      "19          12600   NaN     NaN        NaN      NaN       NaN       NaN  \n",
      "20           7965   NaN     NaN        NaN      NaN       NaN       NaN  \n",
      "21            445   NaN     NaN        NaN      NaN       NaN       NaN  \n",
      "22           4190   NaN     NaN        NaN      NaN       NaN       NaN  \n"
     ]
    }
   ],
   "source": [
    "import pandas as pd\n",
    "import numpy as np\n",
    "#set up for visualization\n",
    "pd.plotting.register_matplotlib_converters()\n",
    "import matplotlib.pyplot as plt\n",
    "%matplotlib inline\n",
    "import seaborn as sns\n",
    "\n",
    "df = pd.read_excel('BudgetFile.xlsx',index_col = None, header = None)\n",
    "\n",
    "print(df)"
   ]
  },
  {
   "cell_type": "code",
   "execution_count": 563,
   "id": "588a2588",
   "metadata": {
    "scrolled": true
   },
   "outputs": [
    {
     "name": "stdout",
     "output_type": "stream",
     "text": [
      "0     Montly ExpensesMontly Savings\n",
      "1                               690\n",
      "2                               690\n",
      "3                               690\n",
      "4                               690\n",
      "5                               690\n",
      "6                               690\n",
      "7                               690\n",
      "8                               690\n",
      "9                               690\n",
      "10                              690\n",
      "11                              690\n",
      "12                              690\n",
      "dtype: object\n"
     ]
    }
   ],
   "source": [
    "Budget_expenses = df.iloc[6:8].sum()\n",
    "print(Budget_expenses)"
   ]
  },
  {
   "cell_type": "code",
   "execution_count": 564,
   "id": "18dfbe49",
   "metadata": {},
   "outputs": [
    {
     "name": "stdout",
     "output_type": "stream",
     "text": [
      "8280\n"
     ]
    }
   ],
   "source": [
    "TotalBudget_expenses = Budget_expenses.iloc[1:13].sum()\n",
    "print(TotalBudget_expenses)"
   ]
  },
  {
   "cell_type": "code",
   "execution_count": 565,
   "id": "245b643e",
   "metadata": {},
   "outputs": [
    {
     "name": "stdout",
     "output_type": "stream",
     "text": [
      "8280\n",
      "True\n"
     ]
    }
   ],
   "source": [
    "#Sanity check for expenses and savings\n",
    "expenses = df.iloc[20:22].sum()\n",
    "check_expenses = expenses.iloc[3]\n",
    "print(check_expenses)\n",
    "\n",
    "if check_expenses == TotalBudget_expenses:\n",
    "    print(\"True\")\n"
   ]
  },
  {
   "cell_type": "code",
   "execution_count": 566,
   "id": "16b741ba",
   "metadata": {},
   "outputs": [
    {
     "name": "stdout",
     "output_type": "stream",
     "text": [
      "0     Monthly Income \n",
      "1                1100\n",
      "2                1100\n",
      "3                1100\n",
      "4                1100\n",
      "5                1100\n",
      "6                1100\n",
      "7                1100\n",
      "8                1100\n",
      "9                1100\n",
      "10               1100\n",
      "11               1100\n",
      "12               1100\n",
      "dtype: object\n"
     ]
    }
   ],
   "source": [
    "Budget_income = df.iloc[5:6].sum()\n",
    "print(Budget_income)"
   ]
  },
  {
   "cell_type": "code",
   "execution_count": 567,
   "id": "c9e98719",
   "metadata": {},
   "outputs": [
    {
     "name": "stdout",
     "output_type": "stream",
     "text": [
      "13200\n"
     ]
    }
   ],
   "source": [
    "Budget_income = Budget_income.iloc[1:13].sum()\n",
    "print(Budget_income)"
   ]
  },
  {
   "cell_type": "code",
   "execution_count": 568,
   "id": "745849fb",
   "metadata": {},
   "outputs": [
    {
     "name": "stdout",
     "output_type": "stream",
     "text": [
      "13200\n",
      "True\n"
     ]
    }
   ],
   "source": [
    "#Sanity check for budget income\n",
    "income = df.iloc[19:20].sum()\n",
    "check_income = income.iloc[3]\n",
    "print(check_income)\n",
    "\n",
    "if check_income == Budget_income:\n",
    "    print(\"True\")\n"
   ]
  },
  {
   "cell_type": "code",
   "execution_count": 569,
   "id": "12e9d17d",
   "metadata": {},
   "outputs": [
    {
     "name": "stdout",
     "output_type": "stream",
     "text": [
      "0     Monthly Income \n",
      "1                1080\n",
      "2                1070\n",
      "3                1000\n",
      "4                1200\n",
      "5                1000\n",
      "6                1000\n",
      "7                1100\n",
      "8                1060\n",
      "9                1000\n",
      "10               1000\n",
      "11               1090\n",
      "12               1000\n",
      "dtype: object\n"
     ]
    }
   ],
   "source": [
    "Actual_income = df.iloc[11:12].sum()\n",
    "print(Actual_income)"
   ]
  },
  {
   "cell_type": "code",
   "execution_count": 570,
   "id": "db08e864",
   "metadata": {},
   "outputs": [
    {
     "name": "stdout",
     "output_type": "stream",
     "text": [
      "12600\n"
     ]
    }
   ],
   "source": [
    "Actual_income = Actual_income.iloc[1:13].sum()\n",
    "print(Actual_income)"
   ]
  },
  {
   "cell_type": "code",
   "execution_count": 571,
   "id": "dbf6ca0e",
   "metadata": {},
   "outputs": [
    {
     "name": "stdout",
     "output_type": "stream",
     "text": [
      "12600\n",
      "True\n"
     ]
    }
   ],
   "source": [
    "#Sanity check for actual expenses and savings \n",
    "income1 = df.iloc[19:20].sum()\n",
    "\n",
    "check_incomeActual = income1.iloc[6]\n",
    "print(check_incomeActual)\n",
    "\n",
    "if check_incomeActual == Actual_income:\n",
    "    print(\"True\")\n",
    "    "
   ]
  },
  {
   "cell_type": "code",
   "execution_count": 572,
   "id": "ac8bed28",
   "metadata": {
    "scrolled": true
   },
   "outputs": [
    {
     "name": "stdout",
     "output_type": "stream",
     "text": [
      "0     Montly ExpensesMontly Savings\n",
      "1                               665\n",
      "2                               685\n",
      "3                               695\n",
      "4                               655\n",
      "5                               635\n",
      "6                               780\n",
      "7                               855\n",
      "8                               750\n",
      "9                               670\n",
      "10                              680\n",
      "11                              640\n",
      "12                              700\n",
      "dtype: object\n"
     ]
    }
   ],
   "source": [
    "Actual_expenses = df.iloc[12:14].sum()\n",
    "print(Actual_expenses)"
   ]
  },
  {
   "cell_type": "code",
   "execution_count": 573,
   "id": "8107cf80",
   "metadata": {
    "scrolled": true
   },
   "outputs": [
    {
     "name": "stdout",
     "output_type": "stream",
     "text": [
      "8410\n"
     ]
    }
   ],
   "source": [
    "Actual_expenses = Actual_expenses.iloc[1:13].sum()\n",
    "print(Actual_expenses)"
   ]
  },
  {
   "cell_type": "code",
   "execution_count": 574,
   "id": "be4ba07f",
   "metadata": {},
   "outputs": [
    {
     "name": "stdout",
     "output_type": "stream",
     "text": [
      "8410\n",
      "True\n"
     ]
    }
   ],
   "source": [
    "#Sanity check for actual expenses and savings THERE IS A PROBLEM IN SANINTY CHEECK \n",
    "\n",
    "check_incomeExpenses = expenses.iloc[6]\n",
    "print(check_incomeExpenses)\n",
    "\n",
    "if check_incomeExpenses == Actual_expenses:\n",
    "    print(\"True\")"
   ]
  },
  {
   "cell_type": "code",
   "execution_count": 575,
   "id": "5ddc40ff",
   "metadata": {
    "scrolled": true
   },
   "outputs": [
    {
     "data": {
      "text/html": [
       "<div>\n",
       "<style scoped>\n",
       "    .dataframe tbody tr th:only-of-type {\n",
       "        vertical-align: middle;\n",
       "    }\n",
       "\n",
       "    .dataframe tbody tr th {\n",
       "        vertical-align: top;\n",
       "    }\n",
       "\n",
       "    .dataframe thead th {\n",
       "        text-align: right;\n",
       "    }\n",
       "</style>\n",
       "<table border=\"1\" class=\"dataframe\">\n",
       "  <thead>\n",
       "    <tr style=\"text-align: right;\">\n",
       "      <th></th>\n",
       "      <th>0</th>\n",
       "      <th>1</th>\n",
       "      <th>2</th>\n",
       "      <th>3</th>\n",
       "      <th>4</th>\n",
       "      <th>5</th>\n",
       "      <th>6</th>\n",
       "      <th>7</th>\n",
       "      <th>8</th>\n",
       "      <th>9</th>\n",
       "      <th>...</th>\n",
       "      <th>33</th>\n",
       "      <th>34</th>\n",
       "      <th>35</th>\n",
       "      <th>36</th>\n",
       "      <th>37</th>\n",
       "      <th>38</th>\n",
       "      <th>39</th>\n",
       "      <th>40</th>\n",
       "      <th>41</th>\n",
       "      <th>42</th>\n",
       "    </tr>\n",
       "  </thead>\n",
       "  <tbody>\n",
       "    <tr>\n",
       "      <th>2022 ACTUAL BUDGET</th>\n",
       "      <td>NaN</td>\n",
       "      <td>INCOME</td>\n",
       "      <td>Salary</td>\n",
       "      <td>Additional Income</td>\n",
       "      <td>TOTAL</td>\n",
       "      <td>NaN</td>\n",
       "      <td>NaN</td>\n",
       "      <td>EXPENSES</td>\n",
       "      <td>Living Costs</td>\n",
       "      <td>Mortgage / Rent</td>\n",
       "      <td>...</td>\n",
       "      <td>Surprise</td>\n",
       "      <td>Education</td>\n",
       "      <td>Investment</td>\n",
       "      <td>Reward</td>\n",
       "      <td>TOTAL</td>\n",
       "      <td>NaN</td>\n",
       "      <td>2022 ACTUAL</td>\n",
       "      <td>Monthly Income</td>\n",
       "      <td>Montly Expenses</td>\n",
       "      <td>Montly Savings</td>\n",
       "    </tr>\n",
       "    <tr>\n",
       "      <th>1</th>\n",
       "      <td>January</td>\n",
       "      <td>NaN</td>\n",
       "      <td>1000</td>\n",
       "      <td>80</td>\n",
       "      <td>1080</td>\n",
       "      <td>NaN</td>\n",
       "      <td>NaN</td>\n",
       "      <td>NaN</td>\n",
       "      <td>NaN</td>\n",
       "      <td>250</td>\n",
       "      <td>...</td>\n",
       "      <td>5</td>\n",
       "      <td>0</td>\n",
       "      <td>20</td>\n",
       "      <td>0</td>\n",
       "      <td>45</td>\n",
       "      <td>NaN</td>\n",
       "      <td>January</td>\n",
       "      <td>1080</td>\n",
       "      <td>620</td>\n",
       "      <td>45</td>\n",
       "    </tr>\n",
       "    <tr>\n",
       "      <th>2</th>\n",
       "      <td>February</td>\n",
       "      <td>NaN</td>\n",
       "      <td>1000</td>\n",
       "      <td>70</td>\n",
       "      <td>1070</td>\n",
       "      <td>NaN</td>\n",
       "      <td>NaN</td>\n",
       "      <td>NaN</td>\n",
       "      <td>NaN</td>\n",
       "      <td>250</td>\n",
       "      <td>...</td>\n",
       "      <td>5</td>\n",
       "      <td>0</td>\n",
       "      <td>20</td>\n",
       "      <td>0</td>\n",
       "      <td>45</td>\n",
       "      <td>NaN</td>\n",
       "      <td>February</td>\n",
       "      <td>1070</td>\n",
       "      <td>640</td>\n",
       "      <td>45</td>\n",
       "    </tr>\n",
       "    <tr>\n",
       "      <th>3</th>\n",
       "      <td>March</td>\n",
       "      <td>NaN</td>\n",
       "      <td>1000</td>\n",
       "      <td>0</td>\n",
       "      <td>1000</td>\n",
       "      <td>NaN</td>\n",
       "      <td>NaN</td>\n",
       "      <td>NaN</td>\n",
       "      <td>NaN</td>\n",
       "      <td>250</td>\n",
       "      <td>...</td>\n",
       "      <td>5</td>\n",
       "      <td>10</td>\n",
       "      <td>20</td>\n",
       "      <td>0</td>\n",
       "      <td>35</td>\n",
       "      <td>NaN</td>\n",
       "      <td>March</td>\n",
       "      <td>1000</td>\n",
       "      <td>660</td>\n",
       "      <td>35</td>\n",
       "    </tr>\n",
       "    <tr>\n",
       "      <th>4</th>\n",
       "      <td>April</td>\n",
       "      <td>NaN</td>\n",
       "      <td>1000</td>\n",
       "      <td>200</td>\n",
       "      <td>1200</td>\n",
       "      <td>NaN</td>\n",
       "      <td>NaN</td>\n",
       "      <td>NaN</td>\n",
       "      <td>NaN</td>\n",
       "      <td>250</td>\n",
       "      <td>...</td>\n",
       "      <td>5</td>\n",
       "      <td>10</td>\n",
       "      <td>20</td>\n",
       "      <td>20</td>\n",
       "      <td>55</td>\n",
       "      <td>NaN</td>\n",
       "      <td>April</td>\n",
       "      <td>1200</td>\n",
       "      <td>600</td>\n",
       "      <td>55</td>\n",
       "    </tr>\n",
       "    <tr>\n",
       "      <th>5</th>\n",
       "      <td>May</td>\n",
       "      <td>NaN</td>\n",
       "      <td>1000</td>\n",
       "      <td>0</td>\n",
       "      <td>1000</td>\n",
       "      <td>NaN</td>\n",
       "      <td>NaN</td>\n",
       "      <td>NaN</td>\n",
       "      <td>NaN</td>\n",
       "      <td>250</td>\n",
       "      <td>...</td>\n",
       "      <td>5</td>\n",
       "      <td>10</td>\n",
       "      <td>20</td>\n",
       "      <td>0</td>\n",
       "      <td>35</td>\n",
       "      <td>NaN</td>\n",
       "      <td>May</td>\n",
       "      <td>1000</td>\n",
       "      <td>600</td>\n",
       "      <td>35</td>\n",
       "    </tr>\n",
       "    <tr>\n",
       "      <th>6</th>\n",
       "      <td>June</td>\n",
       "      <td>NaN</td>\n",
       "      <td>1000</td>\n",
       "      <td>0</td>\n",
       "      <td>1000</td>\n",
       "      <td>NaN</td>\n",
       "      <td>NaN</td>\n",
       "      <td>NaN</td>\n",
       "      <td>NaN</td>\n",
       "      <td>250</td>\n",
       "      <td>...</td>\n",
       "      <td>5</td>\n",
       "      <td>10</td>\n",
       "      <td>20</td>\n",
       "      <td>0</td>\n",
       "      <td>35</td>\n",
       "      <td>NaN</td>\n",
       "      <td>June</td>\n",
       "      <td>1000</td>\n",
       "      <td>745</td>\n",
       "      <td>35</td>\n",
       "    </tr>\n",
       "    <tr>\n",
       "      <th>7</th>\n",
       "      <td>July</td>\n",
       "      <td>NaN</td>\n",
       "      <td>1000</td>\n",
       "      <td>100</td>\n",
       "      <td>1100</td>\n",
       "      <td>NaN</td>\n",
       "      <td>NaN</td>\n",
       "      <td>NaN</td>\n",
       "      <td>NaN</td>\n",
       "      <td>250</td>\n",
       "      <td>...</td>\n",
       "      <td>5</td>\n",
       "      <td>10</td>\n",
       "      <td>20</td>\n",
       "      <td>5</td>\n",
       "      <td>60</td>\n",
       "      <td>NaN</td>\n",
       "      <td>July</td>\n",
       "      <td>1100</td>\n",
       "      <td>795</td>\n",
       "      <td>60</td>\n",
       "    </tr>\n",
       "    <tr>\n",
       "      <th>8</th>\n",
       "      <td>August</td>\n",
       "      <td>NaN</td>\n",
       "      <td>1000</td>\n",
       "      <td>60</td>\n",
       "      <td>1060</td>\n",
       "      <td>NaN</td>\n",
       "      <td>NaN</td>\n",
       "      <td>NaN</td>\n",
       "      <td>NaN</td>\n",
       "      <td>250</td>\n",
       "      <td>...</td>\n",
       "      <td>5</td>\n",
       "      <td>10</td>\n",
       "      <td>20</td>\n",
       "      <td>0</td>\n",
       "      <td>35</td>\n",
       "      <td>NaN</td>\n",
       "      <td>August</td>\n",
       "      <td>1060</td>\n",
       "      <td>715</td>\n",
       "      <td>35</td>\n",
       "    </tr>\n",
       "    <tr>\n",
       "      <th>9</th>\n",
       "      <td>September</td>\n",
       "      <td>NaN</td>\n",
       "      <td>1000</td>\n",
       "      <td>0</td>\n",
       "      <td>1000</td>\n",
       "      <td>NaN</td>\n",
       "      <td>NaN</td>\n",
       "      <td>NaN</td>\n",
       "      <td>NaN</td>\n",
       "      <td>250</td>\n",
       "      <td>...</td>\n",
       "      <td>5</td>\n",
       "      <td>0</td>\n",
       "      <td>20</td>\n",
       "      <td>0</td>\n",
       "      <td>25</td>\n",
       "      <td>NaN</td>\n",
       "      <td>September</td>\n",
       "      <td>1000</td>\n",
       "      <td>645</td>\n",
       "      <td>25</td>\n",
       "    </tr>\n",
       "    <tr>\n",
       "      <th>10</th>\n",
       "      <td>October</td>\n",
       "      <td>NaN</td>\n",
       "      <td>1000</td>\n",
       "      <td>0</td>\n",
       "      <td>1000</td>\n",
       "      <td>NaN</td>\n",
       "      <td>NaN</td>\n",
       "      <td>NaN</td>\n",
       "      <td>NaN</td>\n",
       "      <td>250</td>\n",
       "      <td>...</td>\n",
       "      <td>5</td>\n",
       "      <td>0</td>\n",
       "      <td>20</td>\n",
       "      <td>0</td>\n",
       "      <td>25</td>\n",
       "      <td>NaN</td>\n",
       "      <td>October</td>\n",
       "      <td>1000</td>\n",
       "      <td>655</td>\n",
       "      <td>25</td>\n",
       "    </tr>\n",
       "    <tr>\n",
       "      <th>11</th>\n",
       "      <td>November</td>\n",
       "      <td>NaN</td>\n",
       "      <td>1000</td>\n",
       "      <td>90</td>\n",
       "      <td>1090</td>\n",
       "      <td>NaN</td>\n",
       "      <td>NaN</td>\n",
       "      <td>NaN</td>\n",
       "      <td>NaN</td>\n",
       "      <td>250</td>\n",
       "      <td>...</td>\n",
       "      <td>5</td>\n",
       "      <td>0</td>\n",
       "      <td>20</td>\n",
       "      <td>0</td>\n",
       "      <td>25</td>\n",
       "      <td>NaN</td>\n",
       "      <td>November</td>\n",
       "      <td>1090</td>\n",
       "      <td>615</td>\n",
       "      <td>25</td>\n",
       "    </tr>\n",
       "    <tr>\n",
       "      <th>12</th>\n",
       "      <td>December</td>\n",
       "      <td>NaN</td>\n",
       "      <td>1000</td>\n",
       "      <td>0</td>\n",
       "      <td>1000</td>\n",
       "      <td>NaN</td>\n",
       "      <td>NaN</td>\n",
       "      <td>NaN</td>\n",
       "      <td>NaN</td>\n",
       "      <td>250</td>\n",
       "      <td>...</td>\n",
       "      <td>5</td>\n",
       "      <td>0</td>\n",
       "      <td>20</td>\n",
       "      <td>0</td>\n",
       "      <td>25</td>\n",
       "      <td>NaN</td>\n",
       "      <td>December</td>\n",
       "      <td>1000</td>\n",
       "      <td>675</td>\n",
       "      <td>25</td>\n",
       "    </tr>\n",
       "  </tbody>\n",
       "</table>\n",
       "<p>13 rows × 43 columns</p>\n",
       "</div>"
      ],
      "text/plain": [
       "                           0       1        2                  3      4    5   \\\n",
       "2022 ACTUAL BUDGET        NaN  INCOME  Salary   Additional Income  TOTAL  NaN   \n",
       "1                     January     NaN     1000                 80   1080  NaN   \n",
       "2                    February     NaN     1000                 70   1070  NaN   \n",
       "3                       March     NaN     1000                  0   1000  NaN   \n",
       "4                       April     NaN     1000                200   1200  NaN   \n",
       "5                         May     NaN     1000                  0   1000  NaN   \n",
       "6                        June     NaN     1000                  0   1000  NaN   \n",
       "7                        July     NaN     1000                100   1100  NaN   \n",
       "8                      August     NaN     1000                 60   1060  NaN   \n",
       "9                   September     NaN     1000                  0   1000  NaN   \n",
       "10                    October     NaN     1000                  0   1000  NaN   \n",
       "11                   November     NaN     1000                 90   1090  NaN   \n",
       "12                   December     NaN     1000                  0   1000  NaN   \n",
       "\n",
       "                     6         7             8                9   ...  \\\n",
       "2022 ACTUAL BUDGET  NaN  EXPENSES  Living Costs  Mortgage / Rent  ...   \n",
       "1                   NaN       NaN           NaN              250  ...   \n",
       "2                   NaN       NaN           NaN              250  ...   \n",
       "3                   NaN       NaN           NaN              250  ...   \n",
       "4                   NaN       NaN           NaN              250  ...   \n",
       "5                   NaN       NaN           NaN              250  ...   \n",
       "6                   NaN       NaN           NaN              250  ...   \n",
       "7                   NaN       NaN           NaN              250  ...   \n",
       "8                   NaN       NaN           NaN              250  ...   \n",
       "9                   NaN       NaN           NaN              250  ...   \n",
       "10                  NaN       NaN           NaN              250  ...   \n",
       "11                  NaN       NaN           NaN              250  ...   \n",
       "12                  NaN       NaN           NaN              250  ...   \n",
       "\n",
       "                           33         34          35      36     37   38  \\\n",
       "2022 ACTUAL BUDGET  Surprise   Education  Investment  Reward  TOTAL  NaN   \n",
       "1                           5          0          20       0     45  NaN   \n",
       "2                           5          0          20       0     45  NaN   \n",
       "3                           5         10          20       0     35  NaN   \n",
       "4                           5         10          20      20     55  NaN   \n",
       "5                           5         10          20       0     35  NaN   \n",
       "6                           5         10          20       0     35  NaN   \n",
       "7                           5         10          20       5     60  NaN   \n",
       "8                           5         10          20       0     35  NaN   \n",
       "9                           5          0          20       0     25  NaN   \n",
       "10                          5          0          20       0     25  NaN   \n",
       "11                          5          0          20       0     25  NaN   \n",
       "12                          5          0          20       0     25  NaN   \n",
       "\n",
       "                             39               40               41  \\\n",
       "2022 ACTUAL BUDGET  2022 ACTUAL  Monthly Income   Montly Expenses   \n",
       "1                      January              1080              620   \n",
       "2                      February             1070              640   \n",
       "3                         March             1000              660   \n",
       "4                         April             1200              600   \n",
       "5                           May             1000              600   \n",
       "6                          June             1000              745   \n",
       "7                          July             1100              795   \n",
       "8                        August             1060              715   \n",
       "9                     September             1000              645   \n",
       "10                      October             1000              655   \n",
       "11                     November             1090              615   \n",
       "12                     December             1000              675   \n",
       "\n",
       "                                42  \n",
       "2022 ACTUAL BUDGET  Montly Savings  \n",
       "1                               45  \n",
       "2                               45  \n",
       "3                               35  \n",
       "4                               55  \n",
       "5                               35  \n",
       "6                               35  \n",
       "7                               60  \n",
       "8                               35  \n",
       "9                               25  \n",
       "10                              25  \n",
       "11                              25  \n",
       "12                              25  \n",
       "\n",
       "[13 rows x 43 columns]"
      ]
     },
     "execution_count": 575,
     "metadata": {},
     "output_type": "execute_result"
    },
    {
     "data": {
      "text/plain": [
       "<Figure size 800x800 with 0 Axes>"
      ]
     },
     "metadata": {},
     "output_type": "display_data"
    }
   ],
   "source": [
    "plt.figure(figsize=(8,8))\n",
    "\n",
    "sheet2 = pd.read_excel('BudgetFile.xlsx',sheet_name= \"Sayfa2\",header=0,index_col=False,keep_default_na=True)\n",
    "sheet2 = sheet2.rename({'Unnamed: 1': '1', 'Unnamed: 2': '2','Unnamed: 3': '3','Unnamed: 4': '4','Unnamed: 5': '5','Unnamed: 6': '6','Unnamed: 7': '7','Unnamed: 8': '8','Unnamed: 9': '9','Unnamed: 10': '10','Unnamed: 11': '11','Unnamed: 12': '12'},\n",
    "                       axis=1)\n",
    "\n",
    "a1 = sheet2.transpose()\n",
    "a1\n"
   ]
  },
  {
   "cell_type": "code",
   "execution_count": 576,
   "id": "bc011119",
   "metadata": {},
   "outputs": [
    {
     "data": {
      "text/plain": [
       "[Text(0.5, 0, 'months'), Text(0, 0.5, 'money')]"
      ]
     },
     "execution_count": 576,
     "metadata": {},
     "output_type": "execute_result"
    },
    {
     "data": {
      "image/png": "[encoded data removed]",
      "text/plain": [
       "<Figure size 640x480 with 1 Axes>"
      ]
     },
     "metadata": {},
     "output_type": "display_data"
    }
   ],
   "source": [
    "# Line graph of Savings of actual spending \n",
    "plt.title(\"Savings Over Month\")\n",
    "a1 = a1.astype(str)\n",
    "b = [0,5,10,15,20]\n",
    "a1 =a1.drop(labels=\"2022 ACTUAL BUDGET\",axis = 0 )\n",
    "sns.lineplot(data= a1[32], label = \"Wisdom and Immortality\",size_order = b )\n",
    "sns.lineplot(data= a1[33], label = \"Suprise\",size_order = b )\n",
    "c = sns.lineplot(data= a1[34],label = \"Education\",size_order = b )\n",
    "sns.lineplot(data= a1[35], label = \"Investment\",size_order = b )\n",
    "sns.lineplot(data= a1[36], label = \"Reward\",size_order = b )\n",
    "c.set(xlabel='months', ylabel='money')\n",
    "\n",
    "#c.invert_yaxis()"
   ]
  },
  {
   "cell_type": "code",
   "execution_count": null,
   "id": "08adc279",
   "metadata": {},
   "outputs": [],
   "source": [
    "\n",
    "\n",
    "\n",
    "\n"
   ]
  },
  {
   "cell_type": "code",
   "execution_count": null,
   "id": "a967b741",
   "metadata": {},
   "outputs": [],
   "source": []
  }
 ],
 "metadata": {
  "kernelspec": {
   "display_name": "Python 3 (ipykernel)",
   "language": "python",
   "name": "python3"
  },
  "language_info": {
   "codemirror_mode": {
    "name": "ipython",
    "version": 3
   },
   "file_extension": ".py",
   "mimetype": "text/x-python",
   "name": "python",
   "nbconvert_exporter": "python",
   "pygments_lexer": "ipython3",
   "version": "3.9.13"
  }
 },
 "nbformat": 4,
 "nbformat_minor": 5
}
